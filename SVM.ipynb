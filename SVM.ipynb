{
 "cells": [
  {
   "cell_type": "code",
   "execution_count": 1,
   "id": "28fde51c",
   "metadata": {},
   "outputs": [],
   "source": [
    "import h5py\n",
    "import numpy as np"
   ]
  },
  {
   "cell_type": "code",
   "execution_count": 2,
   "id": "d11e1d5d",
   "metadata": {},
   "outputs": [],
   "source": [
    "lbp = {}\n",
    "\n",
    "with h5py.File(\"lbp_feat_v2.h5\", \"r\") as f:\n",
    "    for k in list(f.keys()):\n",
    "        lbp[k] = np.array(f[k])"
   ]
  },
  {
   "cell_type": "code",
   "execution_count": 3,
   "id": "fc2b11d6",
   "metadata": {},
   "outputs": [],
   "source": [
    "ncm = {}\n",
    "\n",
    "with h5py.File(\"ncm_feat.h5\", \"r\") as f:\n",
    "    for k in list(f.keys()):\n",
    "        ncm[k] = np.array(f[k])"
   ]
  },
  {
   "cell_type": "code",
   "execution_count": 4,
   "id": "6fcdbb2f",
   "metadata": {},
   "outputs": [],
   "source": [
    "output = {}\n",
    "with open(\"final_keys.txt\", \"r\") as f:\n",
    "    for l in f.readlines():\n",
    "        a = l.split(\"\\t\")\n",
    "        output[a[0]] = int(a[1])"
   ]
  },
  {
   "cell_type": "code",
   "execution_count": 5,
   "id": "dfca1355",
   "metadata": {},
   "outputs": [
    {
     "data": {
      "text/plain": [
       "(783, 198)"
      ]
     },
     "execution_count": 5,
     "metadata": {},
     "output_type": "execute_result"
    }
   ],
   "source": [
    "trainKeys = []\n",
    "with open(\"trainKeys2.txt\", \"r\") as f:\n",
    "    trainKeys = [l[:-1] for l in f.readlines()]\n",
    "\n",
    "testKeys = []\n",
    "with open(\"testKeys2.txt\", \"r\") as f:\n",
    "    testKeys = [l[:-1] for l in f.readlines()]\n",
    "\n",
    "len(trainKeys), len(testKeys)"
   ]
  },
  {
   "cell_type": "code",
   "execution_count": 6,
   "id": "0f05e697",
   "metadata": {},
   "outputs": [
    {
     "data": {
      "text/plain": [
       "981"
      ]
     },
     "execution_count": 6,
     "metadata": {},
     "output_type": "execute_result"
    }
   ],
   "source": [
    "finalFeat = {}\n",
    "\n",
    "for k in output:\n",
    "    finalFeat[k] = np.concatenate((lbp[k], ncm[k]), axis=0)\n",
    "\n",
    "len(finalFeat)"
   ]
  },
  {
   "cell_type": "markdown",
   "id": "5e9a9795",
   "metadata": {},
   "source": [
    "# SVM (One vs All)"
   ]
  },
  {
   "cell_type": "code",
   "execution_count": 7,
   "id": "882666ff",
   "metadata": {},
   "outputs": [],
   "source": [
    "from sklearn import svm\n",
    "from imblearn.over_sampling import SMOTE"
   ]
  },
  {
   "cell_type": "code",
   "execution_count": 8,
   "id": "6286934d",
   "metadata": {},
   "outputs": [],
   "source": [
    "svms = [svm.SVC(kernel='rbf') for _ in range(7)]"
   ]
  },
  {
   "cell_type": "code",
   "execution_count": 9,
   "id": "7e3f90e6",
   "metadata": {},
   "outputs": [],
   "source": [
    "for i in range(7):\n",
    "    X = []\n",
    "    y = []\n",
    "    for k in trainKeys:\n",
    "        X.append(finalFeat[k])\n",
    "        if output[k] == i:\n",
    "            y.append(1)\n",
    "        else:\n",
    "            y.append(0)\n",
    "            \n",
    "    X = np.array(X)\n",
    "    y = np.array(y)\n",
    "    \n",
    "    X_resampled, y_resampled = SMOTE().fit_resample(X, y)\n",
    "    \n",
    "    svms[i].fit(X_resampled, y_resampled)"
   ]
  },
  {
   "cell_type": "code",
   "execution_count": 10,
   "id": "51bab467",
   "metadata": {},
   "outputs": [],
   "source": [
    "pred = {}\n",
    "\n",
    "for k in testKeys:\n",
    "    p = []\n",
    "\n",
    "    for i in range(7):\n",
    "        p.append(svms[i].decision_function([finalFeat[k]]))\n",
    "\n",
    "    p = np.array(p)\n",
    "    pred[k] = np.argmax(p)"
   ]
  },
  {
   "cell_type": "code",
   "execution_count": 11,
   "id": "c2c6b498",
   "metadata": {},
   "outputs": [],
   "source": [
    "with open(\"predictions2.txt\", \"w\") as f:\n",
    "    for k in pred:\n",
    "        f.write(k+\"\\t\"+str(pred[k])+\"\\n\")"
   ]
  },
  {
   "cell_type": "code",
   "execution_count": 12,
   "id": "75d03eeb",
   "metadata": {},
   "outputs": [
    {
     "name": "stdout",
     "output_type": "stream",
     "text": [
      "Accuracy: 64.65\n"
     ]
    }
   ],
   "source": [
    "c = 0\n",
    "\n",
    "for k in pred:\n",
    "    if pred[k] == output[k]:\n",
    "        c += 1\n",
    "        \n",
    "print(\"Accuracy:\",round(c*100/len(pred),2))"
   ]
  },
  {
   "cell_type": "code",
   "execution_count": 13,
   "id": "15845634",
   "metadata": {},
   "outputs": [],
   "source": [
    "emotions = {0:'anger',\n",
    " 1: 'contempt',\n",
    " 2: 'disgust',\n",
    " 3: 'fear',\n",
    " 4: 'happy',\n",
    " 5: 'sadness',\n",
    " 6: 'surprise'}"
   ]
  },
  {
   "cell_type": "code",
   "execution_count": 14,
   "id": "357decab",
   "metadata": {},
   "outputs": [
    {
     "data": {
      "text/plain": [
       "<sklearn.metrics._plot.confusion_matrix.ConfusionMatrixDisplay at 0x218573a3b80>"
      ]
     },
     "execution_count": 14,
     "metadata": {},
     "output_type": "execute_result"
    },
    {
     "data": {
      "image/png": "[encoded data removed]",
      "text/plain": [
       "<Figure size 432x288 with 2 Axes>"
      ]
     },
     "metadata": {
      "needs_background": "light"
     },
     "output_type": "display_data"
    }
   ],
   "source": [
    "from sklearn.metrics import confusion_matrix, ConfusionMatrixDisplay\n",
    "\n",
    "y_true = []\n",
    "y_pred = []\n",
    "\n",
    "for k in pred:\n",
    "    y_true.append(emotions[output[k]])\n",
    "    y_pred.append(emotions[pred[k]])\n",
    "    \n",
    "\n",
    "dispLabels = ['anger',\n",
    "'contempt',\n",
    "'disgust',\n",
    "'fear',\n",
    "'happy',\n",
    "'sadness',\n",
    "'surprise']\n",
    "    \n",
    "cm = confusion_matrix(y_true, y_pred, labels=dispLabels)\n",
    "\n",
    "disp = ConfusionMatrixDisplay(confusion_matrix=cm, display_labels=dispLabels)\n",
    "disp.plot()"
   ]
  }
 ],
 "metadata": {
  "kernelspec": {
   "display_name": "Python 3 (ipykernel)",
   "language": "python",
   "name": "python3"
  },
  "language_info": {
   "codemirror_mode": {
    "name": "ipython",
    "version": 3
   },
   "file_extension": ".py",
   "mimetype": "text/x-python",
   "name": "python",
   "nbconvert_exporter": "python",
   "pygments_lexer": "ipython3",
   "version": "3.10.4"
  }
 },
 "nbformat": 4,
 "nbformat_minor": 5
}
