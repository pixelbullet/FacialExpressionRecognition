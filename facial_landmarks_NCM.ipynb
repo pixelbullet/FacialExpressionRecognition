{
 "cells": [
  {
   "cell_type": "code",
   "execution_count": 1,
   "id": "96dd5e74",
   "metadata": {},
   "outputs": [],
   "source": [
    "import cv2\n",
    "import os\n",
    "\n",
    "import mediapipe as mp\n",
    "mp_drawing = mp.solutions.drawing_utils\n",
    "mp_drawing_styles = mp.solutions.drawing_styles\n",
    "mp_face_mesh = mp.solutions.face_mesh"
   ]
  },
  {
   "cell_type": "code",
   "execution_count": 2,
   "id": "5ea73fe7",
   "metadata": {},
   "outputs": [
    {
     "data": {
      "text/plain": [
       "['../data/anger/',\n",
       " '../data/contempt/',\n",
       " '../data/disgust/',\n",
       " '../data/fear/',\n",
       " '../data/happy/']"
      ]
     },
     "execution_count": 2,
     "metadata": {},
     "output_type": "execute_result"
    }
   ],
   "source": [
    "dirs = [\"../data/\" + k + \"/\" for k in os.listdir(\"../data/\")]\n",
    "dirs[:5]"
   ]
  },
  {
   "cell_type": "code",
   "execution_count": 3,
   "id": "114f8f87",
   "metadata": {},
   "outputs": [
    {
     "data": {
      "text/plain": [
       "(['../data/anger/S010_004_00000017.png',\n",
       "  '../data/anger/S010_004_00000018.png',\n",
       "  '../data/anger/S010_004_00000019.png'],\n",
       " 981)"
      ]
     },
     "execution_count": 3,
     "metadata": {},
     "output_type": "execute_result"
    }
   ],
   "source": [
    "IMAGE_FILES = []\n",
    "\n",
    "for d in dirs:\n",
    "    IMAGE_FILES += [d+k for k in os.listdir(d)]\n",
    "\n",
    "IMAGE_FILES[:3], len(IMAGE_FILES)"
   ]
  },
  {
   "cell_type": "code",
   "execution_count": 4,
   "id": "4e0e14f9",
   "metadata": {},
   "outputs": [],
   "source": [
    "drawing_spec = mp_drawing.DrawingSpec(thickness=1, circle_radius=1)\n",
    "face_mesh = mp_face_mesh.FaceMesh(static_image_mode=True, max_num_faces=1, refine_landmarks=True, min_detection_confidence=0.5)"
   ]
  },
  {
   "cell_type": "code",
   "execution_count": 5,
   "id": "c45519db",
   "metadata": {},
   "outputs": [
    {
     "name": "stdout",
     "output_type": "stream",
     "text": [
      "False\n"
     ]
    }
   ],
   "source": [
    "from shapely.geometry import Point\n",
    "from shapely.geometry.polygon import Polygon\n",
    "\n",
    "point = Point(0,0)\n",
    "polygon = Polygon([(11,16),(15,15),(18,18)])\n",
    "print(polygon.contains(point))"
   ]
  },
  {
   "cell_type": "code",
   "execution_count": 6,
   "id": "42aa59c4",
   "metadata": {},
   "outputs": [],
   "source": [
    "ncm_feat = {}"
   ]
  },
  {
   "cell_type": "code",
   "execution_count": 8,
   "id": "54c8519c",
   "metadata": {
    "scrolled": true
   },
   "outputs": [
    {
     "name": "stdout",
     "output_type": "stream",
     "text": [
      "10\n",
      "20\n",
      "30\n",
      "40\n",
      "50\n",
      "60\n",
      "70\n",
      "80\n",
      "90\n",
      "100\n",
      "110\n",
      "120\n",
      "130\n",
      "140\n",
      "150\n",
      "160\n",
      "170\n",
      "180\n",
      "190\n",
      "200\n",
      "210\n",
      "220\n",
      "230\n",
      "240\n",
      "250\n",
      "260\n",
      "270\n",
      "280\n",
      "290\n",
      "300\n",
      "310\n",
      "320\n",
      "330\n",
      "340\n",
      "350\n",
      "360\n",
      "370\n",
      "380\n",
      "390\n",
      "400\n",
      "410\n",
      "420\n",
      "430\n",
      "440\n",
      "450\n",
      "460\n",
      "470\n",
      "480\n",
      "490\n",
      "500\n",
      "510\n",
      "520\n",
      "530\n",
      "540\n",
      "550\n",
      "560\n",
      "570\n",
      "580\n",
      "590\n",
      "600\n",
      "610\n",
      "620\n",
      "630\n",
      "640\n",
      "650\n",
      "660\n",
      "670\n",
      "680\n",
      "690\n",
      "700\n",
      "710\n",
      "720\n",
      "730\n",
      "740\n",
      "750\n",
      "760\n",
      "770\n",
      "780\n",
      "790\n",
      "800\n",
      "810\n",
      "820\n",
      "830\n",
      "840\n",
      "850\n",
      "860\n",
      "870\n",
      "880\n",
      "890\n",
      "900\n",
      "910\n",
      "920\n",
      "930\n",
      "940\n",
      "950\n",
      "960\n",
      "970\n",
      "980\n"
     ]
    }
   ],
   "source": [
    "count = 0\n",
    "\n",
    "import numpy as np\n",
    "\n",
    "for idx, file in enumerate(IMAGE_FILES):\n",
    "    image = cv2.imread(file)\n",
    "    results = face_mesh.process(cv2.cvtColor(image, cv2.COLOR_BGR2RGB))\n",
    "    \n",
    "    if not results.multi_face_landmarks:\n",
    "        continue\n",
    "        \n",
    "    annotated_image = image.copy()\n",
    "    for face_landmarks in results.multi_face_landmarks:\n",
    "        \n",
    "        poly_indices = [            \n",
    "            # lips\n",
    "            [61, 185, 40, 39, 37, 0, 267, 269, 270, 409, 291,375,321,405,314,17,84,181,91,146],\n",
    "            \n",
    "            # nose\n",
    "            [1,2,98,168],\n",
    "            \n",
    "            #rightEye\n",
    "            [247, 30, 29, 27, 28, 56, 190,243,112,26,22,23,24,110,25,130],\n",
    "            \n",
    "            #rightEyebrow\n",
    "            [247, 30, 29, 27, 28, 56, 190,193,55,107,66,105,63,70,156],\n",
    "            \n",
    "            [291,375,321,405,314,17,84,181,176,148,152,377,400,378,379,365,397],\n",
    "            \n",
    "            [327,454,323,291],\n",
    "            \n",
    "            [130,50,93,234],\n",
    "            \n",
    "        ]\n",
    "        \n",
    "        ncm_feat[file] = np.array([])\n",
    "        \n",
    "        c = 0\n",
    "        for p in poly_indices:\n",
    "            annotated_image = image.copy()\n",
    "            \n",
    "            allowedPoints = []\n",
    "            polygon = []\n",
    "            for i in p:\n",
    "                k = face_landmarks.landmark[i]\n",
    "                x,y,z = k.x,k.y,k.z\n",
    "                x = int(annotated_image.shape[0]*x)\n",
    "                y = int(annotated_image.shape[1]*y)\n",
    "                polygon.append((x,y))\n",
    "                allowedPoints.append([x,y])\n",
    "                \n",
    "            polygon = Polygon(polygon)\n",
    "                \n",
    "            for i in range(annotated_image.shape[0]):\n",
    "                for j in range(annotated_image.shape[1]):\n",
    "                    if polygon.contains(Point(i,j)):\n",
    "                        allowedPoints.append([i,j])\n",
    "                        \n",
    "            for i in range(annotated_image.shape[0]):\n",
    "                for j in range(annotated_image.shape[1]):\n",
    "                    if [i,j] not in allowedPoints:\n",
    "                        annotated_image[j][i] = 0\n",
    "                    \n",
    "            gray = cv2.cvtColor(annotated_image, cv2.COLOR_BGR2GRAY)\n",
    "        \n",
    "            M = np.zeros((3,3))\n",
    "            \n",
    "            for i in range(3):\n",
    "                for j in range(3):\n",
    "                    for k in range(gray.shape[0]):\n",
    "                        for l in range(gray.shape[1]):\n",
    "                            M[i][j] += pow(k,i)*pow(l,j)*gray[k][l]\n",
    "                            \n",
    "            xc = M[1][0]/M[0][0]\n",
    "            yc = M[0][1]/M[0][0]\n",
    "            \n",
    "            mu = np.zeros((3,3))\n",
    "            \n",
    "            for i in range(3):\n",
    "                for j in range(3):\n",
    "                    for k in range(gray.shape[0]):\n",
    "                        for l in range(gray.shape[1]):\n",
    "                            mu[i][j] += pow(k-xc,i)*pow(l-yc,j)*gray[k][l]\n",
    "            \n",
    "            nu = np.zeros((3,3))\n",
    "            \n",
    "            for i in range(3):\n",
    "                for j in range(3):\n",
    "                    nu[i][j] = mu[i][j]/pow(M[0][0], (i+j)/3)\n",
    "                    \n",
    "            ncm_feat[file] = np.append(ncm_feat[file], nu.flatten(), axis=0)\n",
    "            \n",
    "        \n",
    "    count += 1\n",
    "    if count%10 == 0:\n",
    "        print(count)\n",
    "        \n",
    "#         cv2.imwrite(\"../data/anger/\" + str(idx) + '_removed.png', annotated_image)\n",
    "        \n",
    "#     break"
   ]
  },
  {
   "cell_type": "code",
   "execution_count": 9,
   "id": "fbd9de4e",
   "metadata": {},
   "outputs": [
    {
     "data": {
      "text/plain": [
       "981"
      ]
     },
     "execution_count": 9,
     "metadata": {},
     "output_type": "execute_result"
    }
   ],
   "source": [
    "len(ncm_feat)"
   ]
  },
  {
   "cell_type": "code",
   "execution_count": 10,
   "id": "b611535f",
   "metadata": {},
   "outputs": [],
   "source": [
    "import h5py\n",
    "\n",
    "f = h5py.File(\"ncm_feat.h5\", \"w\")\n",
    "\n",
    "for k in ncm_feat:\n",
    "    f[k.replace(\"/\",\"__\")] = ncm_feat[k]\n",
    "\n",
    "f.close()"
   ]
  },
  {
   "cell_type": "code",
   "execution_count": 11,
   "id": "7a291321",
   "metadata": {},
   "outputs": [
    {
     "data": {
      "text/plain": [
       "[(63,)]"
      ]
     },
     "execution_count": 11,
     "metadata": {},
     "output_type": "execute_result"
    }
   ],
   "source": [
    "s = []\n",
    "\n",
    "for k in ncm_feat:\n",
    "    s.append(ncm_feat[k].shape)\n",
    "    \n",
    "list(set(s))"
   ]
  },
  {
   "cell_type": "code",
   "execution_count": 13,
   "id": "71b49e38",
   "metadata": {},
   "outputs": [
    {
     "data": {
      "text/plain": [
       "981"
      ]
     },
     "execution_count": 13,
     "metadata": {},
     "output_type": "execute_result"
    }
   ],
   "source": [
    "ncm = {}\n",
    "\n",
    "with h5py.File(\"ncm_feat.h5\", \"r\") as f:\n",
    "    for k in list(f.keys()):\n",
    "        ncm[k] = np.array(f[k])\n",
    "        \n",
    "len(ncm)"
   ]
  }
 ],
 "metadata": {
  "kernelspec": {
   "display_name": "Python 3 (ipykernel)",
   "language": "python",
   "name": "python3"
  },
  "language_info": {
   "codemirror_mode": {
    "name": "ipython",
    "version": 3
   },
   "file_extension": ".py",
   "mimetype": "text/x-python",
   "name": "python",
   "nbconvert_exporter": "python",
   "pygments_lexer": "ipython3",
   "version": "3.10.4"
  }
 },
 "nbformat": 4,
 "nbformat_minor": 5
}
