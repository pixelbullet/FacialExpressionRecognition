{
 "cells": [
  {
   "cell_type": "code",
   "execution_count": 1,
   "id": "76590d16",
   "metadata": {},
   "outputs": [],
   "source": [
    "import h5py\n",
    "import numpy as np"
   ]
  },
  {
   "cell_type": "code",
   "execution_count": 2,
   "id": "1ad28982",
   "metadata": {},
   "outputs": [],
   "source": [
    "lbp = {}\n",
    "\n",
    "with h5py.File(\"lbp_feat_v2.h5\", \"r\") as f:\n",
    "    for k in list(f.keys()):\n",
    "        lbp[k] = np.array(f[k])"
   ]
  },
  {
   "cell_type": "code",
   "execution_count": 3,
   "id": "2bde3a43",
   "metadata": {},
   "outputs": [],
   "source": [
    "ncm = {}\n",
    "\n",
    "with h5py.File(\"ncm_feat.h5\", \"r\") as f:\n",
    "    for k in list(f.keys()):\n",
    "        ncm[k] = np.array(f[k])"
   ]
  },
  {
   "cell_type": "code",
   "execution_count": 4,
   "id": "7b966bdd",
   "metadata": {},
   "outputs": [
    {
     "data": {
      "text/plain": [
       "981"
      ]
     },
     "execution_count": 4,
     "metadata": {},
     "output_type": "execute_result"
    }
   ],
   "source": [
    "ck = {}\n",
    "keys = []\n",
    "\n",
    "for k in lbp:\n",
    "    ck[k] = 1\n",
    "    \n",
    "for k in ncm:\n",
    "    try:\n",
    "        ck[k]\n",
    "        keys.append(k)\n",
    "    except:\n",
    "        pass\n",
    "    \n",
    "len(keys)"
   ]
  },
  {
   "cell_type": "code",
   "execution_count": 5,
   "id": "ad3cc090",
   "metadata": {},
   "outputs": [
    {
     "data": {
      "text/plain": [
       "{'anger': 0,\n",
       " 'contempt': 1,\n",
       " 'disgust': 2,\n",
       " 'fear': 3,\n",
       " 'happy': 4,\n",
       " 'sadness': 5,\n",
       " 'surprise': 6}"
      ]
     },
     "execution_count": 5,
     "metadata": {},
     "output_type": "execute_result"
    }
   ],
   "source": [
    "import os\n",
    "\n",
    "emotions = {}\n",
    "for i,e in enumerate(os.listdir(\"../data/\")):\n",
    "    emotions[e] = i\n",
    "    \n",
    "emotions"
   ]
  },
  {
   "cell_type": "code",
   "execution_count": 6,
   "id": "2a8ce6da",
   "metadata": {},
   "outputs": [],
   "source": [
    "output = {}\n",
    "ro = {}\n",
    "\n",
    "for k in keys:\n",
    "    output[k] = emotions[k.split(\"__\")[2]]\n",
    "    try:\n",
    "        ro[emotions[k.split(\"__\")[2]]].append(k)\n",
    "    except:\n",
    "        ro[emotions[k.split(\"__\")[2]]] = [k]"
   ]
  },
  {
   "cell_type": "code",
   "execution_count": 7,
   "id": "e331f897",
   "metadata": {},
   "outputs": [],
   "source": [
    "f = open(\"final_keys.txt\", \"w\")\n",
    "for k in keys:\n",
    "    f.write(k+\"\\t\"+str(output[k])+\"\\n\")\n",
    "f.close()"
   ]
  },
  {
   "cell_type": "code",
   "execution_count": 8,
   "id": "9378b76a",
   "metadata": {},
   "outputs": [],
   "source": [
    "import random\n",
    "\n",
    "random.seed(12)\n",
    "\n",
    "trainKeys = []\n",
    "testKeys = []\n",
    "\n",
    "for i in ro:\n",
    "    currKeys = ro[i]\n",
    "    random.shuffle(currKeys)\n",
    "    \n",
    "    num = int(0.8*len(currKeys))\n",
    "\n",
    "    trainKeys += currKeys[:num]\n",
    "    testKeys += currKeys[num:]\n",
    "    \n",
    "random.shuffle(trainKeys)\n",
    "random.shuffle(testKeys)"
   ]
  },
  {
   "cell_type": "code",
   "execution_count": 9,
   "id": "f87b59ee",
   "metadata": {},
   "outputs": [
    {
     "data": {
      "text/plain": [
       "(783, 198)"
      ]
     },
     "execution_count": 9,
     "metadata": {},
     "output_type": "execute_result"
    }
   ],
   "source": [
    "len(trainKeys), len(testKeys)"
   ]
  },
  {
   "cell_type": "code",
   "execution_count": 10,
   "id": "f5102f16",
   "metadata": {},
   "outputs": [],
   "source": [
    "with open(\"trainKeys2.txt\", \"w\") as f:\n",
    "    for k in trainKeys:\n",
    "        f.write(k+\"\\n\")\n",
    "        \n",
    "with open(\"testKeys2.txt\", \"w\") as f:\n",
    "    for k in testKeys:\n",
    "        f.write(k+\"\\n\")"
   ]
  }
 ],
 "metadata": {
  "kernelspec": {
   "display_name": "Python 3 (ipykernel)",
   "language": "python",
   "name": "python3"
  },
  "language_info": {
   "codemirror_mode": {
    "name": "ipython",
    "version": 3
   },
   "file_extension": ".py",
   "mimetype": "text/x-python",
   "name": "python",
   "nbconvert_exporter": "python",
   "pygments_lexer": "ipython3",
   "version": "3.10.4"
  }
 },
 "nbformat": 4,
 "nbformat_minor": 5
}
